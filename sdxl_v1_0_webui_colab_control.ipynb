{
  "cells": [
    {
      "cell_type": "markdown",
      "metadata": {
        "id": "view-in-github",
        "colab_type": "text"
      },
      "source": [
        "<a href=\"https://colab.research.google.com/github/fishkingsin/3DWebBrowser/blob/master/sdxl_v1_0_webui_colab_control.ipynb\" target=\"_parent\"><img src=\"https://colab.research.google.com/assets/colab-badge.svg\" alt=\"Open In Colab\"/></a>"
      ]
    },
    {
      "cell_type": "code",
      "execution_count": null,
      "metadata": {
        "id": "SaAJk33ppFw1"
      },
      "outputs": [],
      "source": [
        "import os\n",
        "from google.colab.output import eval_js\n",
        "from google.colab import drive\n",
        "\n",
        "drive.mount('/content/drive')\n",
        "\n",
        "%cd /content\n",
        "%env TF_CPP_MIN_LOG_LEVEL=1\n",
        "\n",
        "!apt -y update -qq\n",
        "!wget https://github.com/camenduru/gperftools/releases/download/v1.0/libtcmalloc_minimal.so.4 -O /content/libtcmalloc_minimal.so.4\n",
        "%env LD_PRELOAD=/content/libtcmalloc_minimal.so.4\n",
        "\n",
        "!apt -y install -qq aria2\n",
        "!pip install -q xformers==0.0.20 triton==2.0.0 -U\n",
        "!pip install -q torch==2.0.1+cu118 torchvision==0.15.2+cu118 torchaudio==2.0.2+cu118 torchtext==0.15.2 torchdata==0.6.1 --extra-index-url https://download.pytorch.org/whl/cu118 -U\n",
        "!git clone -b v2.6 https://dagshub.com/camenduru/ui\n",
        "\n",
        "!rm -rf \"/content/ui/outputs\"\n",
        "!ln -sfn \"/content/drive/MyDrive/SDW/outputs\" \"/content/ui/outputs\"\n",
        "\n",
        "!rm -rf \"/content/ui/models/Stable-diffusion\"\n",
        "!ln -sfn \"/content/drive/MyDrive/SDW/models/checkpoints\" \"/content/ui/models/Stable-diffusion\"\n",
        "\n",
        "!rm -rf \"/content/ui/models/Lora\"\n",
        "!ln -sfn \"/content/drive/MyDrive/SDW/models/loras\" \"/content/ui/models/Lora\"\n",
        "\n",
        "!rm -rf \"/content/ui/models/VAE\"\n",
        "!ln -sfn \"/content/drive/MyDrive/SDW/models/VAE\" \"/content/ui/models/VAE\"\n",
        "\n",
        "\n",
        "# !git clone https://huggingface.co/embed/negative /content/ui/embeddings/negative\n",
        "# !git clone https://huggingface.co/embed/lora /content/ui/models/Lora/positive\n",
        "# !aria2c --console-log-level=error -c -x 16 -s 16 -k 1M https://huggingface.co/embed/upscale/resolve/main/4x-UltraSharp.pth -d /content/ui/models/ESRGAN -o 4x-UltraSharp.pth\n",
        "!git clone https://github.com/camenduru/sd-civitai-browser /content/ui/extensions/sd-civitai-browser\n",
        "!git clone https://github.com/s0md3v/sd-webui-roop/ /content/ui/extensions/sd-webui-roop\n",
        "# !git clone https://github.com/camenduru/control /content/ui/extensions/control\n",
        "# !git clone https://github.com/fkunn1326/openpose-editor /content/ui/extensions/openpose-editor\n",
        "!git clone https://github.com/camenduru/tunnels /content/ui/extensions/tunnels\n",
        "!git clone https://github.com/etherealxx/batchlinks-webui /content/ui/extensions/batchlinks-webui\n",
        "%cd /content/ui\n",
        "!git reset --hard\n",
        "!git -C /content/ui/repositories/stable-diffusion-stability-ai reset --hard\n",
        "\n",
        "# !git clone https://github.com/Mikubill/sd-webui-controlnet /content/ui/extensions/control\n",
        "# !aria2c --console-log-level=error -c -x 16 -s 16 -k 1M https://huggingface.co/lllyasviel/sd_control_collection/resolve/main/diffusers_xl_canny_full.safetensors -d /content/ui/extensions/control/models -o diffusers_xl_canny_full.safetensors\n",
        "# !aria2c --console-log-level=error -c -x 16 -s 16 -k 1M https://huggingface.co/lllyasviel/sd_control_collection/resolve/main/diffusers_xl_canny_mid.safetensors -d /content/ui/extensions/control/models -o diffusers_xl_canny_mid.safetensors\n",
        "# !aria2c --console-log-level=error -c -x 16 -s 16 -k 1M https://huggingface.co/lllyasviel/sd_control_collection/resolve/main/diffusers_xl_canny_small.safetensors -d /content/ui/extensions/control/models -o diffusers_xl_canny_small.safetensors\n",
        "# !aria2c --console-log-level=error -c -x 16 -s 16 -k 1M https://huggingface.co/lllyasviel/sd_control_collection/resolve/main/diffusers_xl_depth_full.safetensors -d /content/ui/extensions/control/models -o diffusers_xl_depth_full.safetensors\n",
        "# !aria2c --console-log-level=error -c -x 16 -s 16 -k 1M https://huggingface.co/lllyasviel/sd_control_collection/resolve/main/diffusers_xl_depth_mid.safetensors -d /content/ui/extensions/control/models -o diffusers_xl_depth_mid.safetensors\n",
        "# !aria2c --console-log-level=error -c -x 16 -s 16 -k 1M https://huggingface.co/lllyasviel/sd_control_collection/resolve/main/diffusers_xl_depth_small.safetensors -d /content/ui/extensions/control/models -o diffusers_xl_depth_small.safetensors\n",
        "# !aria2c --console-log-level=error -c -x 16 -s 16 -k 1M https://huggingface.co/lllyasviel/sd_control_collection/resolve/main/ioclab_sd15_recolor.safetensors -d /content/ui/extensions/control/models -o ioclab_sd15_recolor.safetensors\n",
        "# !aria2c --console-log-level=error -c -x 16 -s 16 -k 1M https://huggingface.co/lllyasviel/sd_control_collection/resolve/main/kohya_controllllite_xl_blur.safetensors -d /content/ui/extensions/control/models -o kohya_controllllite_xl_blur.safetensors\n",
        "# !aria2c --console-log-level=error -c -x 16 -s 16 -k 1M https://huggingface.co/lllyasviel/sd_control_collection/resolve/main/kohya_controllllite_xl_blur_anime.safetensors -d /content/ui/extensions/control/models -o kohya_controllllite_xl_blur_anime.safetensors\n",
        "# !aria2c --console-log-level=error -c -x 16 -s 16 -k 1M https://huggingface.co/lllyasviel/sd_control_collection/resolve/main/kohya_controllllite_xl_blur_anime_beta.safetensors -d /content/ui/extensions/control/models -o kohya_controllllite_xl_blur_anime_beta.safetensors\n",
        "# !aria2c --console-log-level=error -c -x 16 -s 16 -k 1M https://huggingface.co/lllyasviel/sd_control_collection/resolve/main/kohya_controllllite_xl_canny.safetensors -d /content/ui/extensions/control/models -o kohya_controllllite_xl_canny.safetensors\n",
        "# !aria2c --console-log-level=error -c -x 16 -s 16 -k 1M https://huggingface.co/lllyasviel/sd_control_collection/resolve/main/kohya_controllllite_xl_canny_anime.safetensors -d /content/ui/extensions/control/models -o kohya_controllllite_xl_canny_anime.safetensors\n",
        "# !aria2c --console-log-level=error -c -x 16 -s 16 -k 1M https://huggingface.co/lllyasviel/sd_control_collection/resolve/main/kohya_controllllite_xl_depth.safetensors -d /content/ui/extensions/control/models -o kohya_controllllite_xl_depth.safetensors\n",
        "# !aria2c --console-log-level=error -c -x 16 -s 16 -k 1M https://huggingface.co/lllyasviel/sd_control_collection/resolve/main/kohya_controllllite_xl_depth_anime.safetensors -d /content/ui/extensions/control/models -o kohya_controllllite_xl_depth_anime.safetensors\n",
        "# !aria2c --console-log-level=error -c -x 16 -s 16 -k 1M https://huggingface.co/lllyasviel/sd_control_collection/resolve/main/kohya_controllllite_xl_openpose_anime.safetensors -d /content/ui/extensions/control/models -o kohya_controllllite_xl_openpose_anime.safetensors\n",
        "# !aria2c --console-log-level=error -c -x 16 -s 16 -k 1M https://huggingface.co/lllyasviel/sd_control_collection/resolve/main/kohya_controllllite_xl_openpose_anime_v2.safetensors -d /content/ui/extensions/control/models -o kohya_controllllite_xl_openpose_anime_v2.safetensors\n",
        "# !aria2c --console-log-level=error -c -x 16 -s 16 -k 1M https://huggingface.co/lllyasviel/sd_control_collection/resolve/main/kohya_controllllite_xl_scribble_anime.safetensors -d /content/ui/extensions/control/models -o kohya_controllllite_xl_scribble_anime.safetensors\n",
        "# !aria2c --console-log-level=error -c -x 16 -s 16 -k 1M https://huggingface.co/lllyasviel/sd_control_collection/resolve/main/sai_xl_canny_128lora.safetensors -d /content/ui/extensions/control/models -o sai_xl_canny_128lora.safetensors\n",
        "# !aria2c --console-log-level=error -c -x 16 -s 16 -k 1M https://huggingface.co/lllyasviel/sd_control_collection/resolve/main/sai_xl_canny_256lora.safetensors -d /content/ui/extensions/control/models -o sai_xl_canny_256lora.safetensors\n",
        "# !aria2c --console-log-level=error -c -x 16 -s 16 -k 1M https://huggingface.co/lllyasviel/sd_control_collection/resolve/main/sai_xl_depth_128lora.safetensors -d /content/ui/extensions/control/models -o sai_xl_depth_128lora.safetensors\n",
        "# !aria2c --console-log-level=error -c -x 16 -s 16 -k 1M https://huggingface.co/lllyasviel/sd_control_collection/resolve/main/sai_xl_depth_256lora.safetensors -d /content/ui/extensions/control/models -o sai_xl_depth_256lora.safetensors\n",
        "# !aria2c --console-log-level=error -c -x 16 -s 16 -k 1M https://huggingface.co/lllyasviel/sd_control_collection/resolve/main/sai_xl_recolor_128lora.safetensors -d /content/ui/extensions/control/models -o sai_xl_recolor_128lora.safetensors\n",
        "# !aria2c --console-log-level=error -c -x 16 -s 16 -k 1M https://huggingface.co/lllyasviel/sd_control_collection/resolve/main/sai_xl_recolor_256lora.safetensors -d /content/ui/extensions/control/models -o sai_xl_recolor_256lora.safetensors\n",
        "# !aria2c --console-log-level=error -c -x 16 -s 16 -k 1M https://huggingface.co/lllyasviel/sd_control_collection/resolve/main/sai_xl_sketch_128lora.safetensors -d /content/ui/extensions/control/models -o sai_xl_sketch_128lora.safetensors\n",
        "# !aria2c --console-log-level=error -c -x 16 -s 16 -k 1M https://huggingface.co/lllyasviel/sd_control_collection/resolve/main/sai_xl_sketch_256lora.safetensors -d /content/ui/extensions/control/models -o sai_xl_sketch_256lora.safetensors\n",
        "# !aria2c --console-log-level=error -c -x 16 -s 16 -k 1M https://huggingface.co/lllyasviel/sd_control_collection/resolve/main/sargezt_xl_depth.safetensors -d /content/ui/extensions/control/models -o sargezt_xl_depth.safetensors\n",
        "# !aria2c --console-log-level=error -c -x 16 -s 16 -k 1M https://huggingface.co/lllyasviel/sd_control_collection/resolve/main/sargezt_xl_depth_faid_vidit.safetensors -d /content/ui/extensions/control/models -o sargezt_xl_depth_faid_vidit.safetensors\n",
        "# !aria2c --console-log-level=error -c -x 16 -s 16 -k 1M https://huggingface.co/lllyasviel/sd_control_collection/resolve/main/sargezt_xl_depth_zeed.safetensors -d /content/ui/extensions/control/models -o sargezt_xl_depth_zeed.safetensors\n",
        "# !aria2c --console-log-level=error -c -x 16 -s 16 -k 1M https://huggingface.co/lllyasviel/sd_control_collection/resolve/main/sargezt_xl_softedge.safetensors -d /content/ui/extensions/control/models -o sargezt_xl_softedge.safetensors\n",
        "# !aria2c --console-log-level=error -c -x 16 -s 16 -k 1M https://huggingface.co/lllyasviel/sd_control_collection/resolve/main/t2i-adapter_diffusers_xl_canny.safetensors -d /content/ui/extensions/control/models -o t2i-adapter_diffusers_xl_canny.safetensors\n",
        "# !aria2c --console-log-level=error -c -x 16 -s 16 -k 1M https://huggingface.co/lllyasviel/sd_control_collection/resolve/main/t2i-adapter_diffusers_xl_depth_midas.safetensors -d /content/ui/extensions/control/models -o t2i-adapter_diffusers_xl_depth_midas.safetensors\n",
        "# !aria2c --console-log-level=error -c -x 16 -s 16 -k 1M https://huggingface.co/lllyasviel/sd_control_collection/resolve/main/t2i-adapter_diffusers_xl_depth_zoe.safetensors -d /content/ui/extensions/control/models -o t2i-adapter_diffusers_xl_depth_zoe.safetensors\n",
        "# !aria2c --console-log-level=error -c -x 16 -s 16 -k 1M https://huggingface.co/lllyasviel/sd_control_collection/resolve/main/t2i-adapter_diffusers_xl_lineart.safetensors -d /content/ui/extensions/control/models -o t2i-adapter_diffusers_xl_lineart.safetensors\n",
        "# !aria2c --console-log-level=error -c -x 16 -s 16 -k 1M https://huggingface.co/lllyasviel/sd_control_collection/resolve/main/t2i-adapter_diffusers_xl_openpose.safetensors -d /content/ui/extensions/control/models -o t2i-adapter_diffusers_xl_openpose.safetensors\n",
        "# !aria2c --console-log-level=error -c -x 16 -s 16 -k 1M https://huggingface.co/lllyasviel/sd_control_collection/resolve/main/t2i-adapter_diffusers_xl_sketch.safetensors -d /content/ui/extensions/control/models -o t2i-adapter_diffusers_xl_sketch.safetensors\n",
        "# !aria2c --console-log-level=error -c -x 16 -s 16 -k 1M https://huggingface.co/lllyasviel/sd_control_collection/resolve/main/t2i-adapter_xl_canny.safetensors -d /content/ui/extensions/control/models -o t2i-adapter_xl_canny.safetensors\n",
        "# !aria2c --console-log-level=error -c -x 16 -s 16 -k 1M https://huggingface.co/lllyasviel/sd_control_collection/resolve/main/t2i-adapter_xl_openpose.safetensors -d /content/ui/extensions/control/models -o t2i-adapter_xl_openpose.safetensors\n",
        "# !aria2c --console-log-level=error -c -x 16 -s 16 -k 1M https://huggingface.co/lllyasviel/sd_control_collection/resolve/main/t2i-adapter_xl_sketch.safetensors -d /content/ui/extensions/control/models -o t2i-adapter_xl_sketch.safetensors\n",
        "# !aria2c --console-log-level=error -c -x 16 -s 16 -k 1M https://huggingface.co/lllyasviel/sd_control_collection/resolve/main/thibaud_xl_openpose.safetensors -d /content/ui/extensions/control/models -o thibaud_xl_openpose.safetensors\n",
        "# !aria2c --console-log-level=error -c -x 16 -s 16 -k 1M https://huggingface.co/lllyasviel/sd_control_collection/resolve/main/thibaud_xl_openpose_256lora.safetensors -d /content/ui/extensions/control/models -o thibaud_xl_openpose_256lora.safetensors\n",
        "\n",
        "!aria2c --console-log-level=error -c -x 16 -s 16 -k 1M https://huggingface.co/ckpt/sd_xl_base_1.0/resolve/main/sd_xl_base_1.0_0.9vae.safetensors -d /content/ui/models/Stable-diffusion -o sd_xl_base_1.0.safetensors\n",
        "!aria2c --console-log-level=error -c -x 16 -s 16 -k 1M https://huggingface.co/ckpt/sd_xl_refiner_1.0/resolve/main/sd_xl_refiner_1.0_0.9vae.safetensors -d /content/ui/models/Stable-diffusion -o sd_xl_refiner_1.0.safetensors\n",
        "!aria2c --console-log-level=error -c -x 16 -s 16 -k 1M https://huggingface.co/ckpt/sdxl_vae/resolve/main/sdxl_vae.safetensors -d /content/ui/models/VAE -o sdxl_vae.vae.safetensors\n",
        "\n",
        "!sed -i -e 's/\\[\"sd_model_checkpoint\"\\]/\\[\"sd_model_checkpoint\",\"sd_vae\",\"CLIP_stop_at_last_layers\"\\]/g' /content/ui/modules/shared_options.py\n",
        "\n",
        "!python launch.py --listen --xformers --enable-insecure-extension-access --theme dark --gradio-queue --multiple"
      ]
    },
    {
      "cell_type": "code",
      "source": [
        "!python launch.py --listen --xformers --enable-insecure-extension-access --theme dark --gradio-queue --multiple"
      ],
      "metadata": {
        "id": "-23i2t1dXqCQ"
      },
      "execution_count": null,
      "outputs": []
    }
  ],
  "metadata": {
    "accelerator": "GPU",
    "colab": {
      "private_outputs": true,
      "provenance": [],
      "include_colab_link": true
    },
    "gpuClass": "standard",
    "kernelspec": {
      "display_name": "Python 3",
      "name": "python3"
    },
    "language_info": {
      "name": "python"
    }
  },
  "nbformat": 4,
  "nbformat_minor": 0
}